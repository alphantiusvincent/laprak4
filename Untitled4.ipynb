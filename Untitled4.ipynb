{
  "nbformat": 4,
  "nbformat_minor": 0,
  "metadata": {
    "colab": {
      "provenance": []
    },
    "kernelspec": {
      "name": "python3",
      "display_name": "Python 3"
    },
    "language_info": {
      "name": "python"
    }
  },
  "cells": [
    {
      "cell_type": "code",
      "execution_count": null,
      "metadata": {
        "id": "Nt3OIjx1I_6N"
      },
      "outputs": [],
      "source": [
        "def cek_angka(a, b, c):\n",
        "    if a != b and a != c and b != c:\n",
        "        if a + b == c or a + c == b or b + c == a:\n",
        "            return True\n",
        "    return False\n",
        "\n",
        "\n",
        "a = int(input(\"Masukkan nilai a: \"))\n",
        "b = int(input(\"Masukkan nilai b: \"))\n",
        "c = int(input(\"Masukkan nilai c: \"))\n",
        "\n",
        "\n",
        "print(\"jadi ke 3 bilangan ini bernilai :\", cek_angka(a, b, c))\n",
        "# Contoh tester\n",
        "print(cek_angka(2, 3, 5))\n",
        "print(cek_angka(1, 2, 3))\n",
        "print(cek_angka(1, 2, 4))\n",
        "print(cek_angka(1, 1, 2))\n"
      ]
    },
    {
      "cell_type": "code",
      "source": [
        "def cekdigitbelakang(a, b, c):\n",
        "\n",
        "    digita = a % 10\n",
        "    digitb = b % 10\n",
        "    digitc = c % 10\n",
        "\n",
        "    if inputa == inputb == inputc :\n",
        "        return True\n",
        "    elif inputa == inputb or inputa == inputc or inputb == inputc:\n",
        "        return True\n",
        "    else:\n",
        "            return False\n",
        "\n",
        "inputa = int(input(\"Masukkan nilai untuk a: \"))\n",
        "inputb = int(input(\"Masukkan nilai untuk b: \"))\n",
        "inputc = int(input(\"Masukkan nilai untuk c: \"))\n",
        "\n",
        "print(cekdigitbelakang(inputa, inputb, inputc))"
      ],
      "metadata": {
        "id": "XHowjfyMJBKW"
      },
      "execution_count": null,
      "outputs": []
    },
    {
      "cell_type": "code",
      "source": [
        "celcius_to_fahrenheit = lambda C: (9/5) * C + 32\n",
        "celcius_to_reamur = lambda C: 0.8 * C\n",
        "input_C = 100\n",
        "print(\"Input C =\", input_C, \". Output F =\", celcius_to_fahrenheit(input_C))\n",
        "input_C = 80\n",
        "print(\"Input C =\", input_C, \". Output R =\", celcius_to_reamur(input_C))\n",
        "input_C = 0\n",
        "print(\"Input C =\", input_C, \". Output F =\", celcius_to_fahrenheit(input_C))"
      ],
      "metadata": {
        "id": "5dYrvSkcJBeH"
      },
      "execution_count": null,
      "outputs": []
    }
  ]
}